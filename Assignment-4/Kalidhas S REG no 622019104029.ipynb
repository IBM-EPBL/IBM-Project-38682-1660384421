{
  "nbformat": 4,
  "nbformat_minor": 0,
  "metadata": {
    "colab": {
      "provenance": [],
      "toc_visible": true
    },
    "kernelspec": {
      "name": "python3",
      "display_name": "Python 3"
    },
    "language_info": {
      "name": "python"
    }
  },
  "cells": [
    {
      "cell_type": "markdown",
      "source": [
        "## **1. Load the dataset**"
      ],
      "metadata": {
        "id": "VgLmEorJZ07F"
      }
    },
    {
      "cell_type": "code",
      "execution_count": 1,
      "metadata": {
        "id": "WSYqp9eVRpSm"
      },
      "outputs": [],
      "source": [
        "dataset_location = \"/content/drive/MyDrive/spam.csv\""
      ]
    },
    {
      "cell_type": "markdown",
      "source": [
        "## **2. Import the library**"
      ],
      "metadata": {
        "id": "viWzRoLMZ-AZ"
      }
    },
    {
      "cell_type": "code",
      "source": [
        "import pandas as pd\n",
        "import nltk\n",
        "import re\n",
        "import numpy as np\n",
        "from nltk.corpus import stopwords\n",
        "from nltk.stem.porter import PorterStemmer\n",
        "from nltk.translate.ribes_score import word_rank_alignment\n",
        "from numpy.lib.shape_base import split\n",
        "from sklearn import preprocessing\n",
        "from sklearn.feature_extraction.text import CountVectorizer\n",
        "from tensorflow.keras.models import Sequential\n",
        "from sklearn.model_selection import train_test_split\n",
        "from keras.layers import LSTM,Dense,Dropout,Input,Embedding,Activation,Flatten\n",
        "from keras.models import Model\n",
        "import nltk"
      ],
      "metadata": {
        "id": "dTF1ZNeKSgSH"
      },
      "execution_count": 2,
      "outputs": []
    },
    {
      "cell_type": "markdown",
      "source": [
        "### **3. Read dataset and do preprocessing**"
      ],
      "metadata": {
        "id": "ZUs6tTAHaGc4"
      }
    },
    {
      "cell_type": "code",
      "source": [
        "data = pd.read_csv(dataset_location,encoding = \"ISO-8859-1\")"
      ],
      "metadata": {
        "id": "rrQPH7JOU1XT"
      },
      "execution_count": 11,
      "outputs": []
    },
    {
      "cell_type": "code",
      "source": [
        "data.drop([\"Unnamed: 2\",\"Unnamed: 3\",\"Unnamed: 4\"],axis = 1,inplace = True)\n",
        "data.head()"
      ],
      "metadata": {
        "colab": {
          "base_uri": "https://localhost:8080/",
          "height": 206
        },
        "id": "nplKwXfMV-76",
        "outputId": "8d2905fd-48fa-4ae0-af10-e589a1e5d457"
      },
      "execution_count": 12,
      "outputs": [
        {
          "output_type": "execute_result",
          "data": {
            "text/plain": [
              "     v1                                                 v2\n",
              "0   ham  Go until jurong point, crazy.. Available only ...\n",
              "1   ham                      Ok lar... Joking wif u oni...\n",
              "2  spam  Free entry in 2 a wkly comp to win FA Cup fina...\n",
              "3   ham  U dun say so early hor... U c already then say...\n",
              "4   ham  Nah I don't think he goes to usf, he lives aro..."
            ],
            "text/html": [
              "\n",
              "  <div id=\"df-2b030aeb-f546-4a71-a6de-40670287ba1e\">\n",
              "    <div class=\"colab-df-container\">\n",
              "      <div>\n",
              "<style scoped>\n",
              "    .dataframe tbody tr th:only-of-type {\n",
              "        vertical-align: middle;\n",
              "    }\n",
              "\n",
              "    .dataframe tbody tr th {\n",
              "        vertical-align: top;\n",
              "    }\n",
              "\n",
              "    .dataframe thead th {\n",
              "        text-align: right;\n",
              "    }\n",
              "</style>\n",
              "<table border=\"1\" class=\"dataframe\">\n",
              "  <thead>\n",
              "    <tr style=\"text-align: right;\">\n",
              "      <th></th>\n",
              "      <th>v1</th>\n",
              "      <th>v2</th>\n",
              "    </tr>\n",
              "  </thead>\n",
              "  <tbody>\n",
              "    <tr>\n",
              "      <th>0</th>\n",
              "      <td>ham</td>\n",
              "      <td>Go until jurong point, crazy.. Available only ...</td>\n",
              "    </tr>\n",
              "    <tr>\n",
              "      <th>1</th>\n",
              "      <td>ham</td>\n",
              "      <td>Ok lar... Joking wif u oni...</td>\n",
              "    </tr>\n",
              "    <tr>\n",
              "      <th>2</th>\n",
              "      <td>spam</td>\n",
              "      <td>Free entry in 2 a wkly comp to win FA Cup fina...</td>\n",
              "    </tr>\n",
              "    <tr>\n",
              "      <th>3</th>\n",
              "      <td>ham</td>\n",
              "      <td>U dun say so early hor... U c already then say...</td>\n",
              "    </tr>\n",
              "    <tr>\n",
              "      <th>4</th>\n",
              "      <td>ham</td>\n",
              "      <td>Nah I don't think he goes to usf, he lives aro...</td>\n",
              "    </tr>\n",
              "  </tbody>\n",
              "</table>\n",
              "</div>\n",
              "      <button class=\"colab-df-convert\" onclick=\"convertToInteractive('df-2b030aeb-f546-4a71-a6de-40670287ba1e')\"\n",
              "              title=\"Convert this dataframe to an interactive table.\"\n",
              "              style=\"display:none;\">\n",
              "        \n",
              "  <svg xmlns=\"http://www.w3.org/2000/svg\" height=\"24px\"viewBox=\"0 0 24 24\"\n",
              "       width=\"24px\">\n",
              "    <path d=\"M0 0h24v24H0V0z\" fill=\"none\"/>\n",
              "    <path d=\"M18.56 5.44l.94 2.06.94-2.06 2.06-.94-2.06-.94-.94-2.06-.94 2.06-2.06.94zm-11 1L8.5 8.5l.94-2.06 2.06-.94-2.06-.94L8.5 2.5l-.94 2.06-2.06.94zm10 10l.94 2.06.94-2.06 2.06-.94-2.06-.94-.94-2.06-.94 2.06-2.06.94z\"/><path d=\"M17.41 7.96l-1.37-1.37c-.4-.4-.92-.59-1.43-.59-.52 0-1.04.2-1.43.59L10.3 9.45l-7.72 7.72c-.78.78-.78 2.05 0 2.83L4 21.41c.39.39.9.59 1.41.59.51 0 1.02-.2 1.41-.59l7.78-7.78 2.81-2.81c.8-.78.8-2.07 0-2.86zM5.41 20L4 18.59l7.72-7.72 1.47 1.35L5.41 20z\"/>\n",
              "  </svg>\n",
              "      </button>\n",
              "      \n",
              "  <style>\n",
              "    .colab-df-container {\n",
              "      display:flex;\n",
              "      flex-wrap:wrap;\n",
              "      gap: 12px;\n",
              "    }\n",
              "\n",
              "    .colab-df-convert {\n",
              "      background-color: #E8F0FE;\n",
              "      border: none;\n",
              "      border-radius: 50%;\n",
              "      cursor: pointer;\n",
              "      display: none;\n",
              "      fill: #1967D2;\n",
              "      height: 32px;\n",
              "      padding: 0 0 0 0;\n",
              "      width: 32px;\n",
              "    }\n",
              "\n",
              "    .colab-df-convert:hover {\n",
              "      background-color: #E2EBFA;\n",
              "      box-shadow: 0px 1px 2px rgba(60, 64, 67, 0.3), 0px 1px 3px 1px rgba(60, 64, 67, 0.15);\n",
              "      fill: #174EA6;\n",
              "    }\n",
              "\n",
              "    [theme=dark] .colab-df-convert {\n",
              "      background-color: #3B4455;\n",
              "      fill: #D2E3FC;\n",
              "    }\n",
              "\n",
              "    [theme=dark] .colab-df-convert:hover {\n",
              "      background-color: #434B5C;\n",
              "      box-shadow: 0px 1px 3px 1px rgba(0, 0, 0, 0.15);\n",
              "      filter: drop-shadow(0px 1px 2px rgba(0, 0, 0, 0.3));\n",
              "      fill: #FFFFFF;\n",
              "    }\n",
              "  </style>\n",
              "\n",
              "      <script>\n",
              "        const buttonEl =\n",
              "          document.querySelector('#df-2b030aeb-f546-4a71-a6de-40670287ba1e button.colab-df-convert');\n",
              "        buttonEl.style.display =\n",
              "          google.colab.kernel.accessAllowed ? 'block' : 'none';\n",
              "\n",
              "        async function convertToInteractive(key) {\n",
              "          const element = document.querySelector('#df-2b030aeb-f546-4a71-a6de-40670287ba1e');\n",
              "          const dataTable =\n",
              "            await google.colab.kernel.invokeFunction('convertToInteractive',\n",
              "                                                     [key], {});\n",
              "          if (!dataTable) return;\n",
              "\n",
              "          const docLinkHtml = 'Like what you see? Visit the ' +\n",
              "            '<a target=\"_blank\" href=https://colab.research.google.com/notebooks/data_table.ipynb>data table notebook</a>'\n",
              "            + ' to learn more about interactive tables.';\n",
              "          element.innerHTML = '';\n",
              "          dataTable['output_type'] = 'display_data';\n",
              "          await google.colab.output.renderOutput(dataTable, element);\n",
              "          const docLink = document.createElement('div');\n",
              "          docLink.innerHTML = docLinkHtml;\n",
              "          element.appendChild(docLink);\n",
              "        }\n",
              "      </script>\n",
              "    </div>\n",
              "  </div>\n",
              "  "
            ]
          },
          "metadata": {},
          "execution_count": 12
        }
      ]
    },
    {
      "cell_type": "code",
      "source": [
        "nltk.download('stopwords',quiet=True)\n",
        "nltk.download('all',quiet=True)"
      ],
      "metadata": {
        "colab": {
          "base_uri": "https://localhost:8080/"
        },
        "id": "sMH4D-GyWMOC",
        "outputId": "3be695bf-a006-4b7b-8366-86622d5857aa"
      },
      "execution_count": 13,
      "outputs": [
        {
          "output_type": "execute_result",
          "data": {
            "text/plain": [
              "True"
            ]
          },
          "metadata": {},
          "execution_count": 13
        }
      ]
    },
    {
      "cell_type": "code",
      "source": [
        "ps = PorterStemmer()\n",
        "input = []"
      ],
      "metadata": {
        "id": "-jNsR2asWc76"
      },
      "execution_count": 14,
      "outputs": []
    },
    {
      "cell_type": "code",
      "source": [
        "for i in range(0,5572):\n",
        "  v2 = data['v2'][i]\n",
        "\n",
        "  #removing punctuation\n",
        "  v2 = re.sub('[^a-zA-Z]',' ',v2)\n",
        "\n",
        "  #converting to lower case\n",
        "  v2 = v2.lower()\n",
        "\n",
        "  #splitting the sentence\n",
        "  v2 = v2.split()\n",
        "\n",
        "  #removing the stopwords and stemming\n",
        "  v2 = [ps.stem(word) for word in v2 if not word in set(stopwords.words('english'))]\n",
        "\n",
        "  v2 = ' '.join(v2)\n",
        "\n",
        "  input.append(v2)"
      ],
      "metadata": {
        "id": "c6oYZuAuWkKs"
      },
      "execution_count": 15,
      "outputs": []
    },
    {
      "cell_type": "code",
      "source": [
        "#creating document term matrix\n",
        "cv = CountVectorizer(max_features=2000)\n",
        "x = cv.fit_transform(input).toarray()\n",
        "x.shape"
      ],
      "metadata": {
        "colab": {
          "base_uri": "https://localhost:8080/"
        },
        "id": "-2t6Y84nWpS1",
        "outputId": "dd5c3786-6210-4310-d849-fb17b5a883f3"
      },
      "execution_count": 16,
      "outputs": [
        {
          "output_type": "execute_result",
          "data": {
            "text/plain": [
              "(5572, 2000)"
            ]
          },
          "metadata": {},
          "execution_count": 16
        }
      ]
    },
    {
      "cell_type": "code",
      "source": [
        "le = preprocessing.LabelEncoder()\n",
        "\n",
        "data['v1'] = le.fit_transform(data['v1'])\n",
        "data['v1'].unique()"
      ],
      "metadata": {
        "colab": {
          "base_uri": "https://localhost:8080/"
        },
        "id": "rVLHHZzdWxk7",
        "outputId": "64f8cd1b-a532-4b9d-bfea-7b3b1f03d013"
      },
      "execution_count": 17,
      "outputs": [
        {
          "output_type": "execute_result",
          "data": {
            "text/plain": [
              "array([0, 1])"
            ]
          },
          "metadata": {},
          "execution_count": 17
        }
      ]
    },
    {
      "cell_type": "code",
      "source": [
        "y = data['v1'].values"
      ],
      "metadata": {
        "id": "T1L1wENDW6ll"
      },
      "execution_count": 18,
      "outputs": []
    },
    {
      "cell_type": "code",
      "source": [
        "y = y.reshape(-1,1)"
      ],
      "metadata": {
        "id": "aTOhhtFhW-MN"
      },
      "execution_count": 19,
      "outputs": []
    },
    {
      "cell_type": "code",
      "source": [
        "x_train,x_test,y_train,y_test = train_test_split(x,y,test_size = 0.4)"
      ],
      "metadata": {
        "id": "GpojdqhQXDoi"
      },
      "execution_count": 20,
      "outputs": []
    },
    {
      "cell_type": "markdown",
      "source": [
        "### **4. Model building - Adding layers, Compiling model and saving model**"
      ],
      "metadata": {
        "id": "hFCnJdBNaT3Y"
      }
    },
    {
      "cell_type": "code",
      "source": [
        "model = Sequential()"
      ],
      "metadata": {
        "id": "pKA9cN9bXP6X"
      },
      "execution_count": 21,
      "outputs": []
    },
    {
      "cell_type": "code",
      "source": [
        "model.add(Dense(1565,activation = \"relu\"))\n",
        "model.add(Dense(3000,activation = \"relu\"))\n",
        "model.add(Dense(1,activation = \"sigmoid\"))\n",
        "model.add(Flatten())"
      ],
      "metadata": {
        "id": "5V0zaaV6XWCT"
      },
      "execution_count": 22,
      "outputs": []
    },
    {
      "cell_type": "code",
      "source": [
        "model.compile(optimizer = \"adam\",loss = \"binary_crossentropy\", metrics = [\"accuracy\"])"
      ],
      "metadata": {
        "id": "etGxaSBqXaJk"
      },
      "execution_count": 23,
      "outputs": []
    },
    {
      "cell_type": "code",
      "source": [
        "model.fit(x_train,y_train,epochs = 15)"
      ],
      "metadata": {
        "colab": {
          "base_uri": "https://localhost:8080/"
        },
        "id": "vyxbyDbuXebY",
        "outputId": "0ca30a3f-aa60-418c-d0fc-b5369740d89e"
      },
      "execution_count": 24,
      "outputs": [
        {
          "output_type": "stream",
          "name": "stdout",
          "text": [
            "Epoch 1/15\n",
            "105/105 [==============================] - 8s 66ms/step - loss: 0.1361 - accuracy: 0.9596\n",
            "Epoch 2/15\n",
            "105/105 [==============================] - 7s 66ms/step - loss: 0.0063 - accuracy: 0.9988\n",
            "Epoch 3/15\n",
            "105/105 [==============================] - 9s 86ms/step - loss: 4.5288e-04 - accuracy: 1.0000\n",
            "Epoch 4/15\n",
            "105/105 [==============================] - 7s 67ms/step - loss: 1.5986e-04 - accuracy: 1.0000\n",
            "Epoch 5/15\n",
            "105/105 [==============================] - 7s 69ms/step - loss: 9.0204e-05 - accuracy: 1.0000\n",
            "Epoch 6/15\n",
            "105/105 [==============================] - 9s 87ms/step - loss: 5.8530e-05 - accuracy: 1.0000\n",
            "Epoch 7/15\n",
            "105/105 [==============================] - 7s 65ms/step - loss: 4.0083e-05 - accuracy: 1.0000\n",
            "Epoch 8/15\n",
            "105/105 [==============================] - 7s 70ms/step - loss: 2.9233e-05 - accuracy: 1.0000\n",
            "Epoch 9/15\n",
            "105/105 [==============================] - 7s 66ms/step - loss: 2.2047e-05 - accuracy: 1.0000\n",
            "Epoch 10/15\n",
            "105/105 [==============================] - 7s 66ms/step - loss: 1.7282e-05 - accuracy: 1.0000\n",
            "Epoch 11/15\n",
            "105/105 [==============================] - 7s 66ms/step - loss: 1.3754e-05 - accuracy: 1.0000\n",
            "Epoch 12/15\n",
            "105/105 [==============================] - 7s 67ms/step - loss: 1.1192e-05 - accuracy: 1.0000\n",
            "Epoch 13/15\n",
            "105/105 [==============================] - 7s 67ms/step - loss: 9.2434e-06 - accuracy: 1.0000\n",
            "Epoch 14/15\n",
            "105/105 [==============================] - 7s 66ms/step - loss: 7.7334e-06 - accuracy: 1.0000\n",
            "Epoch 15/15\n",
            "105/105 [==============================] - 7s 66ms/step - loss: 6.5376e-06 - accuracy: 1.0000\n"
          ]
        },
        {
          "output_type": "execute_result",
          "data": {
            "text/plain": [
              "<keras.callbacks.History at 0x7f3e7f591950>"
            ]
          },
          "metadata": {},
          "execution_count": 24
        }
      ]
    },
    {
      "cell_type": "code",
      "source": [
        "model.save(\"spam-message-classifier.h5\")"
      ],
      "metadata": {
        "id": "qEyMI2TzYD13"
      },
      "execution_count": 25,
      "outputs": []
    },
    {
      "cell_type": "markdown",
      "source": [
        "### **5. Testing the model**"
      ],
      "metadata": {
        "id": "ZvWlru5iafgp"
      }
    },
    {
      "cell_type": "code",
      "source": [
        "ham = \"im donee. come pick me up\"\n",
        "spam = \"WINNER$$$$ SMS REPLY 'WIN'\"\n",
        "message = re.sub('[^a-zA-Z]',' ',spam)\n",
        "message"
      ],
      "metadata": {
        "colab": {
          "base_uri": "https://localhost:8080/",
          "height": 0
        },
        "id": "YVY6p8uJYIM1",
        "outputId": "8d68530b-b3b5-402d-9a44-e8f2ae72e6b5"
      },
      "execution_count": 26,
      "outputs": [
        {
          "output_type": "execute_result",
          "data": {
            "text/plain": [
              "'WINNER     SMS REPLY  WIN '"
            ],
            "application/vnd.google.colaboratory.intrinsic+json": {
              "type": "string"
            }
          },
          "metadata": {},
          "execution_count": 26
        }
      ]
    },
    {
      "cell_type": "markdown",
      "source": [
        "### **Testing with spam message**"
      ],
      "metadata": {
        "id": "pO-ACsUBan-H"
      }
    },
    {
      "cell_type": "code",
      "source": [
        "message = message.split()\n",
        "message = [ps.stem(word) for word in message if not word in set(stopwords.words('english')) ]\n",
        "message = ' '.join(message)"
      ],
      "metadata": {
        "id": "QUNwoFsVYNxE"
      },
      "execution_count": 27,
      "outputs": []
    },
    {
      "cell_type": "code",
      "source": [
        "message1 = cv.transform([message])\n",
        "message1"
      ],
      "metadata": {
        "colab": {
          "base_uri": "https://localhost:8080/"
        },
        "id": "pCx79vm7YR30",
        "outputId": "a44cedc1-614e-4fa9-eef9-052e4de1a858"
      },
      "execution_count": 28,
      "outputs": [
        {
          "output_type": "execute_result",
          "data": {
            "text/plain": [
              "<1x2000 sparse matrix of type '<class 'numpy.int64'>'\n",
              "\twith 4 stored elements in Compressed Sparse Row format>"
            ]
          },
          "metadata": {},
          "execution_count": 28
        }
      ]
    },
    {
      "cell_type": "code",
      "source": [
        "TruePredction = model.predict(message1.astype(float))"
      ],
      "metadata": {
        "colab": {
          "base_uri": "https://localhost:8080/"
        },
        "id": "fDMW04_XYXyH",
        "outputId": "81a0ce13-6eda-4323-f840-e310cd149c25"
      },
      "execution_count": 29,
      "outputs": [
        {
          "output_type": "stream",
          "name": "stdout",
          "text": [
            "1/1 [==============================] - 0s 152ms/step\n"
          ]
        }
      ]
    },
    {
      "cell_type": "code",
      "source": [
        "TruePredction > 0.5"
      ],
      "metadata": {
        "colab": {
          "base_uri": "https://localhost:8080/"
        },
        "id": "hTerBAOcYf3z",
        "outputId": "3b38e5c1-658f-40c0-dfc6-bd1aa8933771"
      },
      "execution_count": 30,
      "outputs": [
        {
          "output_type": "execute_result",
          "data": {
            "text/plain": [
              "array([[ True]])"
            ]
          },
          "metadata": {},
          "execution_count": 30
        }
      ]
    },
    {
      "cell_type": "markdown",
      "source": [
        "### **Testing with normal message**"
      ],
      "metadata": {
        "id": "YXDDozzNavDx"
      }
    },
    {
      "cell_type": "code",
      "source": [
        "msg = re.sub('[^a-zA-Z]',' ',ham)\n",
        "msg"
      ],
      "metadata": {
        "colab": {
          "base_uri": "https://localhost:8080/",
          "height": 0
        },
        "id": "C7aw3RvZYkhm",
        "outputId": "65d5a97a-c0c0-4560-e16c-846e5557dda2"
      },
      "execution_count": 31,
      "outputs": [
        {
          "output_type": "execute_result",
          "data": {
            "text/plain": [
              "'im donee  come pick me up'"
            ],
            "application/vnd.google.colaboratory.intrinsic+json": {
              "type": "string"
            }
          },
          "metadata": {},
          "execution_count": 31
        }
      ]
    },
    {
      "cell_type": "code",
      "source": [
        "msg = msg.split()\n",
        "msg = [ps.stem(word) for word in msg if not word in set(stopwords.words('english'))]\n",
        "msg = ' '.join(msg)"
      ],
      "metadata": {
        "id": "wh0czWEaYo8C"
      },
      "execution_count": 32,
      "outputs": []
    },
    {
      "cell_type": "code",
      "source": [
        "msg"
      ],
      "metadata": {
        "colab": {
          "base_uri": "https://localhost:8080/",
          "height": 0
        },
        "id": "iyrXutnIYs8M",
        "outputId": "cb8a7de8-54dd-42cf-d412-1cba63d17c32"
      },
      "execution_count": 33,
      "outputs": [
        {
          "output_type": "execute_result",
          "data": {
            "text/plain": [
              "'im done come pick'"
            ],
            "application/vnd.google.colaboratory.intrinsic+json": {
              "type": "string"
            }
          },
          "metadata": {},
          "execution_count": 33
        }
      ]
    },
    {
      "cell_type": "code",
      "source": [
        "cv.transform([msg])"
      ],
      "metadata": {
        "colab": {
          "base_uri": "https://localhost:8080/"
        },
        "id": "Qb854Gv1YzXb",
        "outputId": "5d69a1f7-fab2-4571-cb59-268fae1da4c0"
      },
      "execution_count": 34,
      "outputs": [
        {
          "output_type": "execute_result",
          "data": {
            "text/plain": [
              "<1x2000 sparse matrix of type '<class 'numpy.int64'>'\n",
              "\twith 4 stored elements in Compressed Sparse Row format>"
            ]
          },
          "metadata": {},
          "execution_count": 34
        }
      ]
    },
    {
      "cell_type": "code",
      "source": [
        "FalsePredection = model.predict(cv.transform([msg]))"
      ],
      "metadata": {
        "colab": {
          "base_uri": "https://localhost:8080/"
        },
        "id": "tVTYrv6ZY5Kd",
        "outputId": "2562d24b-70b1-4037-98a8-ea8085432071"
      },
      "execution_count": 35,
      "outputs": [
        {
          "output_type": "stream",
          "name": "stdout",
          "text": [
            "1/1 [==============================] - 0s 89ms/step\n"
          ]
        }
      ]
    },
    {
      "cell_type": "code",
      "source": [
        "FalsePredection > 0.5"
      ],
      "metadata": {
        "colab": {
          "base_uri": "https://localhost:8080/"
        },
        "id": "2xMvaP6cY9W7",
        "outputId": "58594427-d093-41a3-a974-3152225f6e5f"
      },
      "execution_count": 36,
      "outputs": [
        {
          "output_type": "execute_result",
          "data": {
            "text/plain": [
              "array([[False]])"
            ]
          },
          "metadata": {},
          "execution_count": 36
        }
      ]
    }
  ]
}